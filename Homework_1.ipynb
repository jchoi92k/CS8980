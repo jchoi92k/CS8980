{
  "nbformat": 4,
  "nbformat_minor": 0,
  "metadata": {
    "colab": {
      "name": "Homework 1.ipynb",
      "provenance": [],
      "authorship_tag": "ABX9TyMvMbqoWkuSQ5JPjPZnmCbD",
      "include_colab_link": true
    },
    "kernelspec": {
      "name": "python3",
      "display_name": "Python 3"
    }
  },
  "cells": [
    {
      "cell_type": "markdown",
      "metadata": {
        "id": "view-in-github",
        "colab_type": "text"
      },
      "source": [
        "<a href=\"https://colab.research.google.com/github/jchoi92k/CS8980/blob/main/Homework_1.ipynb\" target=\"_parent\"><img src=\"https://colab.research.google.com/assets/colab-badge.svg\" alt=\"Open In Colab\"/></a>"
      ]
    },
    {
      "cell_type": "markdown",
      "metadata": {
        "id": "RldpnFCL3GmM"
      },
      "source": [
        "TEXT: Using Shakespeare’s “The Life and Death of Julius Caesar” found as\r\n",
        "hw_1-text.txt under this iCollege assignment. Write the following pieces of code:"
      ]
    },
    {
      "cell_type": "markdown",
      "metadata": {
        "id": "l0kcM3OV3I9W"
      },
      "source": [
        "1. Write a piece of code using a regular expression in Python to count how many times\r\n",
        "the following name appears: CICERO, this regex needs to be case-sensitive. (10 points)"
      ]
    },
    {
      "cell_type": "code",
      "metadata": {
        "colab": {
          "base_uri": "https://localhost:8080/"
        },
        "id": "oRCmfuot3NQm",
        "outputId": "e27e3e42-3d96-4ce0-9220-48e90bdb0b1b"
      },
      "source": [
        "import re\r\n",
        "\r\n",
        "with open('hw_1-text.txt', 'r', encoding='utf-8') as f:\r\n",
        "  ctext = f.read()\r\n",
        "\r\n",
        "ciceros = re.findall(r\"\\bCICERO\\b\", ctext)\r\n",
        "print(len(ciceros))"
      ],
      "execution_count": null,
      "outputs": [
        {
          "output_type": "stream",
          "text": [
            "7\n"
          ],
          "name": "stdout"
        }
      ]
    },
    {
      "cell_type": "markdown",
      "metadata": {
        "id": "b3QE0JMb4u-Q"
      },
      "source": [
        "2. Write a regular expression in Python that finds all 6 character words found in this play.\r\n",
        "(10 points)\r\n"
      ]
    },
    {
      "cell_type": "code",
      "metadata": {
        "colab": {
          "base_uri": "https://localhost:8080/"
        },
        "id": "XDnmcuF64tkW",
        "outputId": "6a0a8adf-c75e-4cd1-a465-c025f3b2618d"
      },
      "source": [
        "#For all tokens (case sensitive)\r\n",
        "sixchars = re.findall(r\"\\b\\w{6}\\b\", ctext)\r\n",
        "#For all types (case sensitive)\r\n",
        "sixchars_types = set(sixchars)\r\n",
        "#For all types (case insensitive)\r\n",
        "sixchars_types_ics = set([w.lower() for w in sixchars_types])\r\n",
        "print(sixchars_types_ics)"
      ],
      "execution_count": null,
      "outputs": [
        {
          "output_type": "stream",
          "text": [
            "{'brains', 'strike', 'griefs', 'cobble', 'knotty', 'beauty', 'dearer', 'drives', 'bloods', 'should', 'banish', 'vulgar', 'bribes', 'upmost', 'almost', 'ghosts', 'fought', 'utmost', 'arrive', 'hounds', 'stains', 'orator', 'humble', 'pompey', 'bright', 'senses', 'sennet', 'gently', 'window', 'actors', 'fields', 'fellow', 'pocket', 'sweaty', 'darest', 'sparks', 'number', 'brands', 'intend', 'shrewd', 'waving', 'common', 'sleepy', 'memory', 'strain', 'repair', 'subtle', 'plutus', 'coward', 'colour', 'itself', 'render', 'smiles', 'bowels', 'regard', 'slight', 'scarfs', 'living', 'rogues', 'bathed', 'suitor', 'redder', 'tricks', 'damned', 'notest', 'shores', 'corpse', 'afraid', 'greets', 'strato', 'headed', 'denied', 'kingly', 'visage', 'nature', 'aweary', 'sounds', 'ruffle', 'matter', 'hidden', 'faults', 'cursed', 'wreath', 'lovest', 'higher', 'divers', 'chance', 'mouths', 'merely', 'breast', 'betray', 'foamed', 'myself', 'season', 'wander', 'losing', 'bosoms', 'ground', 'comest', 'parley', 'ersway', 'nights', 'stream', 'youths', 'crying', 'scaped', 'except', 'repute', 'effect', 'beware', 'powers', 'softly', 'crests', 'hazard', 'choose', 'strong', 'notice', 'dagger', 'fasten', 'hungry', 'twenty', 'hollow', 'sardis', 'swound', 'cheque', 'knocks', 'verses', 'harlot', 'valour', 'behind', 'decree', 'impart', 'across', 'craves', 'sights', 'musing', 'vanish', 'motion', 'mettle', 'eating', 'govern', 'sirrah', 'spleen', 'tongue', 'wonder', 'marcus', 'vexeth', 'forced', 'undone', 'erebus', 'begins', 'former', 'latest', 'acting', 'spouts', 'liable', 'yearns', 'follow', 'malice', 'bestow', 'antony', 'pulpit', 'legacy', 'burial', 'though', 'rumour', 'custom', 'morrow', 'secret', 'virtue', 'winter', 'kindle', 'arming', 'savage', 'amazed', 'proper', 'horrid', 'safely', 'appear', 'sickly', 'market', 'whilst', 'easily', 'boldly', 'vision', 'breath', 'desire', 'aeneas', 'little', 'voyage', 'unfold', 'slaves', 'leaden', 'perils', 'elbows', 'throws', 'shouts', 'eagles', 'before', 'proves', 'school', 'humour', 'hooted', 'giving', 'madman', 'crouch', 'master', 'brings', 'native', 'mother', 'having', 'father', 'sacred', 'befall', 'erread', 'taught', 'saying', 'spoils', 'temper', 'gentle', 'forest', 'become', 'litter', 'silent', 'mender', 'vilely', 'praise', 'whiles', 'unfirm', 'hither', 'resort', 'lights', 'making', 'choler', 'coffin', 'tokens', 'meddle', 'straws', 'sinews', 'feeble', 'murder', 'hoping', 'smatch', 'glared', 'speech', 'second', 'relics', 'plains', 'closet', 'decius', 'beasts', 'errand', 'refuse', 'revels', 'cannot', 'cavern', 'dreams', 'lowest', 'buried', 'repose', 'dearly', 'forget', 'brutus', 'hearse', 'buffet', 'wrongs', 'people', 'indeed', 'danger', 'return', 'senate', 'julius', 'yields', 'driven', 'choked', 'voices', 'thasos', 'throng', 'fuller', 'things', 'pieces', 'asleep', 'richer', 'always', 'places', 'compel', 'grudge', 'repeal', 'defeat', 'cimber', 'taking', 'horses', 'action', 'honest', 'signal', 'stared', 'troops', 'loving', 'mantle', 'plague', 'fierce', 'beaten', 'report', 'cancel', 'terror', 'sports', 'comets', 'staled', 'expect', 'wisdom', 'eighth', 'unless', 'romans', 'stones', 'grieve', 'beyond', 'sorrow', 'absent', 'course', 'enough', 'waited', 'endure', 'summer', 'statue', 'depend', 'health', 'squeal', 'heaven', 'madmen', 'stands', 'cumber', 'awhile', 'assure', 'saving', 'ershot', 'braved', 'toward', 'yonder', 'canopy', 'wisely', 'clouds', 'others', 'smiled', 'falser', 'clitus', 'dreamt', 'seated', 'commit', 'seldom', 'please', 'supper', 'bloody', 'dinner', 'exeunt', 'guilty', 'genius', 'letter', 'blocks', 'states', 'serves', 'served', 'houses', 'favour', 'remain', 'chides', 'portia', 'single', 'months', 'points', 'cicero', 'listen', 'costly', 'upward', 'shriek', 'elders', 'change', 'struck', 'speaks', 'swords', 'masker', 'abroad', 'ensign', 'statua', 'better', 'billow', 'throat', 'narrow', 'fatter', 'deaths', 'armies', 'charge', 'seeing', 'losses', 'hinder', 'covert', 'towers', 'person', 'sicken', 'shapes', 'depart', 'sudden', 'shrunk', 'honour', 'cloaks', 'prefer', 'fright', 'credit', 'behold', 'causes', 'shakes', 'tyrant', 'caesar', 'beside', 'pardon', 'spirit', 'ferret', 'reason', 'nearer', 'choice', 'menace', 'surest', 'safety', 'partly', 'withal', 'lustre', 'defend', 'thirty', 'hanged', 'coming', 'vessel', 'friend', 'hearts', 'shadow', 'fulfil', 'attain', 'minded', 'strife', 'digest', 'alarum', 'either', 'forgot', 'height', 'devise', 'belike', 'wasted', 'sought', 'within', 'fourth', 'attire', 'street', 'mutiny', 'ladder', 'afloat', 'rather', 'answer', 'papers', 'rascal', 'flames', 'untrod', 'sister', 'sleeve', 'ravens', 'ascend', 'mortal', 'barren', 'strive', 'nervii', 'wheels', 'public', 'basest', 'formal', 'manner', 'stares', 'pledge', 'lucius', 'unborn', 'thrive', 'palter', 'battle', 'worthy', 'steads', 'mighty', 'search', 'entire', 'shamed', 'simple', 'images', 'labour', 'proved', 'thinks', 'wounds', 'silver', 'makest', 'lawful', 'nobler', 'thrice', 'demand', 'graves', 'rheumy', 'threat', 'arises', 'lovers', 'office'}\n"
          ],
          "name": "stdout"
        }
      ]
    },
    {
      "cell_type": "markdown",
      "metadata": {
        "id": "2X0-LzaKFD7I"
      },
      "source": [
        "3. Write a piece of code that uses a regular expression in Python to count how many\r\n",
        "words are capitalized in the first letter only. (20 points)"
      ]
    },
    {
      "cell_type": "code",
      "metadata": {
        "colab": {
          "base_uri": "https://localhost:8080/"
        },
        "id": "ehLWq1FRFGou",
        "outputId": "1dfb6248-12fc-4ba4-d320-845fb629855d"
      },
      "source": [
        "# Including 1-letter-words\r\n",
        "fcapt = re.findall(r\"\\b[A-Z][a-z]*\\b\", ctext)\r\n",
        "# Excluding 1-letter-words\r\n",
        "fcapt_m = [w for w in fcapt if len(w) > 1]\r\n",
        "print(len(fcapt))"
      ],
      "execution_count": null,
      "outputs": [
        {
          "output_type": "stream",
          "text": [
            "4376\n"
          ],
          "name": "stdout"
        }
      ]
    },
    {
      "cell_type": "markdown",
      "metadata": {
        "id": "AZp7KZsHFzDM"
      },
      "source": [
        "4. Write a regular expression using groups in Python that extracts all phrases that have\r\n",
        "“son of ” and extract/output the answer in a case-insensitive way. For example, for the\r\n",
        "following “I am the son of earth”, should find “son of earth” and extract/output “earth”.\r\n",
        "(20 points)"
      ]
    },
    {
      "cell_type": "code",
      "metadata": {
        "colab": {
          "base_uri": "https://localhost:8080/"
        },
        "id": "OV2kxCRQF0uh",
        "outputId": "b07aadf0-ff3b-46d5-c758-16cc81d38d63"
      },
      "source": [
        "#Find all phrases and create a list\r\n",
        "sonof = re.findall(r\"(?i)\\b(son) (of) ([a-z]+)\", ctext)\r\n",
        "#All words (tokens) that fill the slot in the phrase \"son of X\"\r\n",
        "sonofn = [w[-1] for w in sonof]\r\n",
        "#For types\r\n",
        "sonofn_types = set(sonofn)\r\n",
        "\r\n",
        "print(sonofn)"
      ],
      "execution_count": null,
      "outputs": [
        {
          "output_type": "stream",
          "text": [
            "['Rome', 'Caesar', 'Marcus', 'Marcus']\n"
          ],
          "name": "stdout"
        }
      ]
    },
    {
      "cell_type": "markdown",
      "metadata": {
        "id": "h5d5Jc3uIz5o"
      },
      "source": [
        "6. Write a Python function that takes the file as an input and outputs how many lines end\r\n",
        "with: ? , that is a question mark at the end of the line. This function needs to use a\r\n",
        "regular expression. (20 points)"
      ]
    },
    {
      "cell_type": "code",
      "metadata": {
        "colab": {
          "base_uri": "https://localhost:8080/"
        },
        "id": "0OmJ4amgI12W",
        "outputId": "841e556f-b826-4962-9720-a64d2ab5b03a"
      },
      "source": [
        "def findq(textpath):\r\n",
        "  with open(textpath, 'r', encoding='utf-8') as f:\r\n",
        "    return len([w for w in f if re.search(r'\\?$', w) != None])\r\n",
        "\r\n",
        "print(findq('hw_1-text.txt'))"
      ],
      "execution_count": null,
      "outputs": [
        {
          "output_type": "stream",
          "text": [
            "215\n"
          ],
          "name": "stdout"
        }
      ]
    },
    {
      "cell_type": "markdown",
      "metadata": {
        "id": "a4xUdBb8KWfd"
      },
      "source": [
        "7. Using the code from Class 04, train a Random Forest classification model for the same\r\n",
        "two newsgroups, generate the confusion matrix, and all the same performance metrics.\r\n",
        "(50 points)\r\n"
      ]
    },
    {
      "cell_type": "code",
      "metadata": {
        "id": "0HzdFdByKY4W",
        "colab": {
          "base_uri": "https://localhost:8080/",
          "height": 402
        },
        "outputId": "da227bf7-4872-4f92-c61c-7016903936e5"
      },
      "source": [
        "%matplotlib inline\r\n",
        "import numpy as np\r\n",
        "import matplotlib.pyplot as plt\r\n",
        "import seaborn as sns; sns.set()\r\n",
        "import sklearn.metrics\r\n",
        "from sklearn.datasets import fetch_20newsgroups\r\n",
        "from sklearn.ensemble import RandomForestClassifier\r\n",
        "from sklearn.feature_extraction.text import TfidfVectorizer, CountVectorizer\r\n",
        "from sklearn.metrics import confusion_matrix\r\n",
        "from sklearn.naive_bayes import MultinomialNB\r\n",
        "from sklearn.pipeline import make_pipeline\r\n",
        "\r\n",
        "\r\n",
        "#Codes from Class 04: For Bag of Words\r\n",
        "data = fetch_20newsgroups()\r\n",
        "categories = ['rec.autos','comp.graphics']\r\n",
        "\r\n",
        "train = fetch_20newsgroups(subset='train', categories=categories)\r\n",
        "test = fetch_20newsgroups(subset='test', categories=categories)\r\n",
        "\r\n",
        "#Use RandomForestClassifier to make pipeline\r\n",
        "model = make_pipeline(CountVectorizer(), RandomForestClassifier())\r\n",
        "\r\n",
        "model.fit(train.data, train.target)\r\n",
        "labels = model.predict(test.data)\r\n",
        "\r\n",
        "mat = confusion_matrix(test.target, labels)\r\n",
        "sns.heatmap(mat.T, square=True, annot=True, fmt='d', cbar=False,\r\n",
        "            xticklabels=train.target_names, yticklabels=train.target_names)\r\n",
        "plt.xlabel('true label')\r\n",
        "plt.ylabel('predicted label')\r\n",
        "\r\n",
        "print('Accuracy:', sklearn.metrics.accuracy_score(test.target,labels))\r\n",
        "print('Precision:', sklearn.metrics.precision_score(test.target,labels))\r\n",
        "print('Recall:', sklearn.metrics.recall_score(test.target,labels))\r\n",
        "print('F1 Score:', sklearn.metrics.f1_score(labels, test.target, average='macro'))\r\n",
        "print('Mean Absolute Error:', sklearn.metrics.mean_absolute_error(test.target,labels))\r\n",
        "print('Mean Squared Error:', sklearn.metrics.mean_squared_error(test.target, labels))  \r\n",
        "print('Root Mean Squared Error:', np.sqrt(sklearn.metrics.mean_squared_error(test.target, labels)))"
      ],
      "execution_count": null,
      "outputs": [
        {
          "output_type": "stream",
          "text": [
            "Accuracy: 0.9121019108280255\n",
            "Precision: 0.9291338582677166\n",
            "Recall: 0.8939393939393939\n",
            "F1 Score: 0.91209278094524\n",
            "Mean Absolute Error: 0.08789808917197452\n",
            "Mean Squared Error: 0.08789808917197452\n",
            "Root Mean Squared Error: 0.2964761190584741\n"
          ],
          "name": "stdout"
        },
        {
          "output_type": "display_data",
          "data": {
            "image/png": "[encoded data removed]",
            "text/plain": [
              "<Figure size 432x288 with 1 Axes>"
            ]
          },
          "metadata": {
            "tags": []
          }
        }
      ]
    },
    {
      "cell_type": "code",
      "metadata": {
        "colab": {
          "base_uri": "https://localhost:8080/",
          "height": 402
        },
        "id": "j2I5ZI-9sHUA",
        "outputId": "0077c115-42a4-4b56-966a-64ff891fac9e"
      },
      "source": [
        "#Codes from Class 04: For TF-IDF\r\n",
        "model = make_pipeline(TfidfVectorizer(), RandomForestClassifier())\r\n",
        "\r\n",
        "model.fit(train.data, train.target)\r\n",
        "labels = model.predict(test.data)\r\n",
        "\r\n",
        "mat = confusion_matrix(test.target, labels)\r\n",
        "sns.heatmap(mat.T, square=True, annot=True, fmt='d', cbar=False,\r\n",
        "            xticklabels=train.target_names, yticklabels=train.target_names)\r\n",
        "plt.xlabel('true label')\r\n",
        "plt.ylabel('predicted label')\r\n",
        "\r\n",
        "print('Accuracy:', sklearn.metrics.accuracy_score(test.target,labels))\r\n",
        "print('Precision:', sklearn.metrics.precision_score(test.target,labels))\r\n",
        "print('Recall:', sklearn.metrics.recall_score(test.target,labels))\r\n",
        "print('F1 Score:', sklearn.metrics.f1_score(labels, test.target, average='macro'))\r\n",
        "print('Mean Absolute Error:', sklearn.metrics.mean_absolute_error(test.target,labels))\r\n",
        "print('Mean Squared Error:', sklearn.metrics.mean_squared_error(test.target, labels))  \r\n",
        "print('Root Mean Squared Error:', np.sqrt(sklearn.metrics.mean_squared_error(test.target, labels)))"
      ],
      "execution_count": null,
      "outputs": [
        {
          "output_type": "stream",
          "text": [
            "Accuracy: 0.9210191082802548\n",
            "Precision: 0.9348958333333334\n",
            "Recall: 0.9065656565656566\n",
            "F1 Score: 0.9210159039272963\n",
            "Mean Absolute Error: 0.07898089171974522\n",
            "Mean Squared Error: 0.07898089171974522\n",
            "Root Mean Squared Error: 0.2810353922902687\n"
          ],
          "name": "stdout"
        },
        {
          "output_type": "display_data",
          "data": {
            "image/png": "[encoded data removed]",
            "text/plain": [
              "<Figure size 432x288 with 1 Axes>"
            ]
          },
          "metadata": {
            "tags": []
          }
        }
      ]
    },
    {
      "cell_type": "markdown",
      "metadata": {
        "id": "i1qcOW5fKZEs"
      },
      "source": [
        "Bonus (15 points): Using the code from Class 04. Write a function to find the best\r\n",
        "performing model for the TF-IDF vectorization. The requirements for this are: 1) Pass all\r\n",
        "metrics for each model in a single dataframe (each row has a metric value, each column\r\n",
        "is a model type). 2) Make the decision of the best model by counting which column has\r\n",
        "the highest F1-score and accuracy."
      ]
    },
    {
      "cell_type": "code",
      "metadata": {
        "id": "Hc98JyfTKasr"
      },
      "source": [
        "import pandas as pd\r\n",
        "from sklearn.linear_model import Perceptron, LogisticRegression\r\n",
        "\r\n",
        "# Function takes input as list of tuples: [(classifier function, name) ...]\r\n",
        "def bmodel_finder(clsfr_list):\r\n",
        "    # Fetch data\r\n",
        "    data = fetch_20newsgroups()\r\n",
        "    categories = ['rec.autos','comp.graphics']\r\n",
        "\r\n",
        "    # Create train/test sets\r\n",
        "    train = fetch_20newsgroups(subset='train', categories=categories)\r\n",
        "    test = fetch_20newsgroups(subset='test', categories=categories)\r\n",
        "\r\n",
        "    # List to be turned into dataframe\r\n",
        "    dfl = []\r\n",
        "\r\n",
        "    for clsfr in clsfr_list:\r\n",
        "      model_mn = make_pipeline(TfidfVectorizer(), clsfr[0]())\r\n",
        "      model_mn.fit(train.data, train.target)\r\n",
        "      labels_mn = model_mn.predict(test.data)\r\n",
        "\r\n",
        "      # Create variables and append to dfl\r\n",
        "      accuracy = sklearn.metrics.accuracy_score(test.target,labels_mn)\r\n",
        "      precision = sklearn.metrics.precision_score(test.target,labels_mn)\r\n",
        "      recall = sklearn.metrics.recall_score(test.target,labels_mn)\r\n",
        "      f_one = sklearn.metrics.f1_score(labels_mn, test.target, average='macro')\r\n",
        "      mae = sklearn.metrics.mean_absolute_error(test.target,labels_mn)\r\n",
        "      mse = sklearn.metrics.mean_squared_error(test.target, labels_mn)\r\n",
        "      rmse = np.sqrt(sklearn.metrics.mean_squared_error(test.target, labels_mn))\r\n",
        "      dfl.append([clsfr[1], accuracy, precision, recall, f_one, mae, mse, rmse])\r\n",
        "    \r\n",
        "    # Create data frame\r\n",
        "    fdf = pd.DataFrame(dfl, columns=['Name', 'Accuracy', 'Precision', \"Recall\", \"F1 Score\", \"Mean Absolute Error\", \"Mean Squared Error\", \"Root Mean Squared Error\"])\r\n",
        "    fdf = fdf.set_index('Name')\r\n",
        "\r\n",
        "    # Final Dataframe to work with (rows: metric value, columns: model type)\r\n",
        "    fdf = fdf.T\r\n",
        "\r\n",
        "    # Compare F1 Scores and Accuracy of different models\r\n",
        "    high = 0\r\n",
        "    res = ''\r\n",
        "    for col in fdf.columns:\r\n",
        "      foneacc = fdf[col]['F1 Score'] + fdf[col]['Accuracy']\r\n",
        "      if foneacc > high:\r\n",
        "        high = foneacc\r\n",
        "        res = col\r\n",
        "      else:\r\n",
        "        pass\r\n",
        "    \r\n",
        "    return res\r\n",
        "\r\n",
        "# sample code comparing three different models: Naive Bayes, Perceptron, and Logistic Regression\r\n",
        "best_model = bmodel_finder([(MultinomialNB, 'Multinomial Naive Bayes'), (Perceptron, 'Perceptron'), (LogisticRegression, 'Logistic Regression')])"
      ],
      "execution_count": null,
      "outputs": []
    },
    {
      "cell_type": "code",
      "metadata": {
        "colab": {
          "base_uri": "https://localhost:8080/",
          "height": 35
        },
        "id": "FLVC7k1x1L29",
        "outputId": "d79f78c9-1813-424c-9ffa-1b7938dde264"
      },
      "source": [
        "best_model"
      ],
      "execution_count": null,
      "outputs": [
        {
          "output_type": "execute_result",
          "data": {
            "application/vnd.google.colaboratory.intrinsic+json": {
              "type": "string"
            },
            "text/plain": [
              "'Logistic Regression'"
            ]
          },
          "metadata": {
            "tags": []
          },
          "execution_count": 9
        }
      ]
    }
  ]
}