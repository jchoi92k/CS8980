{
  "nbformat": 4,
  "nbformat_minor": 0,
  "metadata": {
    "colab": {
      "name": "Homework 0.ipynb",
      "provenance": [],
      "collapsed_sections": [],
      "authorship_tag": "ABX9TyPytPDxlionKfe7OtxNTwAq",
      "include_colab_link": true
    },
    "kernelspec": {
      "name": "python3",
      "display_name": "Python 3"
    }
  },
  "cells": [
    {
      "cell_type": "markdown",
      "metadata": {
        "id": "view-in-github",
        "colab_type": "text"
      },
      "source": [
        "<a href=\"https://colab.research.google.com/github/jchoi92k/CS8980/blob/main/Homework_0.ipynb\" target=\"_parent\"><img src=\"https://colab.research.google.com/assets/colab-badge.svg\" alt=\"Open In Colab\"/></a>"
      ]
    },
    {
      "cell_type": "markdown",
      "metadata": {
        "id": "rT3uNpo4phjq"
      },
      "source": [
        "Joon Suh Choi 002-51-1521"
      ]
    },
    {
      "cell_type": "markdown",
      "metadata": {
        "id": "0i9VXtHt41Ie"
      },
      "source": [
        "1. Write a function that finds the factorial of a number. Test the function finding the factorial of the number 10."
      ]
    },
    {
      "cell_type": "code",
      "metadata": {
        "id": "MxZdqKO8pll1"
      },
      "source": [
        "def factorial(x):\r\n",
        "  if x > 1:\r\n",
        "    return x * factorial(x - 1)\r\n",
        "  elif x == 1:\r\n",
        "    return 1\r\n",
        "  else:\r\n",
        "    return \"No factorial for negative integers or zero\""
      ],
      "execution_count": 1,
      "outputs": []
    },
    {
      "cell_type": "code",
      "metadata": {
        "colab": {
          "base_uri": "https://localhost:8080/"
        },
        "id": "A3_ODOL_p9pB",
        "outputId": "eda67246-a0a7-4493-ca24-904987646f58"
      },
      "source": [
        "factorial(10)"
      ],
      "execution_count": 2,
      "outputs": [
        {
          "output_type": "execute_result",
          "data": {
            "text/plain": [
              "3628800"
            ]
          },
          "metadata": {
            "tags": []
          },
          "execution_count": 2
        }
      ]
    },
    {
      "cell_type": "markdown",
      "metadata": {
        "id": "FV6wAsPmqDXb"
      },
      "source": [
        "2. Write a function that determines if a number is a prime number. Test the function with\r\n",
        "the following numbers: 3 and 1251"
      ]
    },
    {
      "cell_type": "code",
      "metadata": {
        "id": "0UR-_TdqqEFH"
      },
      "source": [
        "def prime_finder(x):\r\n",
        "  nonprimes = []\r\n",
        "  # x is not a prime number if it is 1 or if it is an even number\r\n",
        "  if x == 1 or (x !=2 and x % 2 == 0):\r\n",
        "    return f'{x} is NOT a prime number'\r\n",
        "  else:\r\n",
        "    # iterate through all numbers between 2 and x/2 and check if x can be divided by any\r\n",
        "    for i in range(int((x-2)/2 - 0.5)):\r\n",
        "      t = i+2\r\n",
        "      if t not in nonprimes:\r\n",
        "        if x % t == 0:\r\n",
        "          return f'{x} is NOT a prime number'\r\n",
        "        # create a list of numbers that can be skipped (i.e., multiples of previously iterated numbers)\r\n",
        "        else:\r\n",
        "          nonprimes = nonprimes + [(w + 1) * t for w in range(x // t)]\r\n",
        "      else:\r\n",
        "        pass\r\n",
        "  return f'{x} is a prime number'"
      ],
      "execution_count": 3,
      "outputs": []
    },
    {
      "cell_type": "code",
      "metadata": {
        "colab": {
          "base_uri": "https://localhost:8080/",
          "height": 35
        },
        "id": "A29r_5yL5jVN",
        "outputId": "04631779-a32a-475d-906a-e495fa91157a"
      },
      "source": [
        "prime_finder(3)"
      ],
      "execution_count": 4,
      "outputs": [
        {
          "output_type": "execute_result",
          "data": {
            "application/vnd.google.colaboratory.intrinsic+json": {
              "type": "string"
            },
            "text/plain": [
              "'3 is a prime number'"
            ]
          },
          "metadata": {
            "tags": []
          },
          "execution_count": 4
        }
      ]
    },
    {
      "cell_type": "code",
      "metadata": {
        "colab": {
          "base_uri": "https://localhost:8080/",
          "height": 35
        },
        "id": "whriQRWt5mb5",
        "outputId": "95fff196-1b88-4bc5-e9fa-3b3bbccf88e6"
      },
      "source": [
        "prime_finder(1251)"
      ],
      "execution_count": 5,
      "outputs": [
        {
          "output_type": "execute_result",
          "data": {
            "application/vnd.google.colaboratory.intrinsic+json": {
              "type": "string"
            },
            "text/plain": [
              "'1251 is NOT a prime number'"
            ]
          },
          "metadata": {
            "tags": []
          },
          "execution_count": 5
        }
      ]
    },
    {
      "cell_type": "markdown",
      "metadata": {
        "id": "BbGXkuJifkuS"
      },
      "source": [
        "3. Write a function that transposes a matrix. Test with a 3 x 3 identity matrix.\r\n"
      ]
    },
    {
      "cell_type": "code",
      "metadata": {
        "id": "AXqsWD9Wflhj"
      },
      "source": [
        "def transpose(x):\r\n",
        "  # count the length of rows and columns\r\n",
        "  rows = len(x)\r\n",
        "  columns = len(x[0])\r\n",
        "  transposed = []\r\n",
        "  # switch (i, j) to (j, i)\r\n",
        "  for i in range(columns):\r\n",
        "    current = []\r\n",
        "    for j in range(rows):\r\n",
        "      current.append(x[j][i])\r\n",
        "    transposed.append(current)\r\n",
        "  return transposed"
      ],
      "execution_count": 6,
      "outputs": []
    },
    {
      "cell_type": "code",
      "metadata": {
        "colab": {
          "base_uri": "https://localhost:8080/"
        },
        "id": "uLJPn4tfgsuZ",
        "outputId": "f0c87c2a-c1d5-48fb-c330-f9e1679eec36"
      },
      "source": [
        "transpose([[1,0,0], [0,1,0], [0,0,1]])"
      ],
      "execution_count": 7,
      "outputs": [
        {
          "output_type": "execute_result",
          "data": {
            "text/plain": [
              "[[1, 0, 0], [0, 1, 0], [0, 0, 1]]"
            ]
          },
          "metadata": {
            "tags": []
          },
          "execution_count": 7
        }
      ]
    },
    {
      "cell_type": "markdown",
      "metadata": {
        "id": "h5HrauR_hP1Q"
      },
      "source": [
        "4. Using Pandas and Numpy, write a piece of code to combine two series into one. Test\r\n",
        "your code with:\r\n"
      ]
    },
    {
      "cell_type": "code",
      "metadata": {
        "id": "Kie3YYtyhODN",
        "colab": {
          "base_uri": "https://localhost:8080/"
        },
        "outputId": "b9f1996c-888f-4c5a-84f9-54e1fd069089"
      },
      "source": [
        "import pandas as pd\r\n",
        "import numpy as np\r\n",
        "\r\n",
        "np.random.seed(0)\r\n",
        "series1 = pd.Series(np.arange(10))\r\n",
        "series2 = pd.Series(np.arange(26))\r\n",
        "\r\n",
        "series3 = pd.Series(list(series1) + list(series2))\r\n",
        "print(series3)"
      ],
      "execution_count": 8,
      "outputs": [
        {
          "output_type": "stream",
          "text": [
            "0      0\n",
            "1      1\n",
            "2      2\n",
            "3      3\n",
            "4      4\n",
            "5      5\n",
            "6      6\n",
            "7      7\n",
            "8      8\n",
            "9      9\n",
            "10     0\n",
            "11     1\n",
            "12     2\n",
            "13     3\n",
            "14     4\n",
            "15     5\n",
            "16     6\n",
            "17     7\n",
            "18     8\n",
            "19     9\n",
            "20    10\n",
            "21    11\n",
            "22    12\n",
            "23    13\n",
            "24    14\n",
            "25    15\n",
            "26    16\n",
            "27    17\n",
            "28    18\n",
            "29    19\n",
            "30    20\n",
            "31    21\n",
            "32    22\n",
            "33    23\n",
            "34    24\n",
            "35    25\n",
            "dtype: int64\n"
          ],
          "name": "stdout"
        }
      ]
    },
    {
      "cell_type": "markdown",
      "metadata": {
        "id": "K3f4xgmxh5kx"
      },
      "source": [
        "5. Using pandas, write a piece of code to convert the first character of each element in a\r\n",
        "series to uppercase. Test your code with: series = pd.Series(['nlp', 'will', 'be', 'easy?'])\r\n"
      ]
    },
    {
      "cell_type": "code",
      "metadata": {
        "colab": {
          "base_uri": "https://localhost:8080/"
        },
        "id": "2vEEAmmph5DL",
        "outputId": "c964adfa-24ff-4fe5-cb75-73b31540a661"
      },
      "source": [
        "def capitalize_series(x):\r\n",
        "  newseries = []\r\n",
        "  for i in x:\r\n",
        "    # If there are more than one character, capitalize first letter\r\n",
        "    if len(i) > 1:\r\n",
        "      newseries.append(f'{i[0].upper()}{i[1:]}')\r\n",
        "    # If length is 0, return empty string\r\n",
        "    elif len(i) <= 0:\r\n",
        "      newseries.append('')\r\n",
        "    # If length is 1, return capitalized letter\r\n",
        "    else:\r\n",
        "      newseries.append(i[0].upper())\r\n",
        "      \r\n",
        "  return pd.Series(newseries)\r\n",
        "\r\n",
        "series = pd.Series(['nlp', 'will', 'be', 'easy?'])\r\n",
        "capitalize_series(series)"
      ],
      "execution_count": 9,
      "outputs": [
        {
          "output_type": "execute_result",
          "data": {
            "text/plain": [
              "0      Nlp\n",
              "1     Will\n",
              "2       Be\n",
              "3    Easy?\n",
              "dtype: object"
            ]
          },
          "metadata": {
            "tags": []
          },
          "execution_count": 9
        }
      ]
    },
    {
      "cell_type": "markdown",
      "metadata": {
        "id": "7C4S2l2Mh3Mn"
      },
      "source": [
        "Bonus: Using pandas, write a piece of code to get the frequency of unique values in the\r\n",
        "entire dataframe (not using built in functions). Test your code with: dataFrame = pd.DataFrame(np.random.randint(5, 10, 20).reshape(-1, 4), columns = list('abcd'))\r\n"
      ]
    },
    {
      "cell_type": "code",
      "metadata": {
        "colab": {
          "base_uri": "https://localhost:8080/"
        },
        "id": "qJ0PbL21h6Hw",
        "outputId": "12270d1d-a193-49b5-fd1b-748fdc11135c"
      },
      "source": [
        "np.random.seed(0)\r\n",
        "dataFrame = pd.DataFrame(np.random.randint(5, 10, 20).reshape(-1, 4), columns = list('abcd'))\r\n",
        "\r\n",
        "freq_count = dict()\r\n",
        "\r\n",
        "# Find unique values to set as dictionary keys\r\n",
        "unique_vals = set(dataFrame.stack())\r\n",
        "# Iterate through keys and count them in the stack\r\n",
        "for val in unique_vals:\r\n",
        "  count = 0\r\n",
        "  for item in list(dataFrame.stack()):\r\n",
        "    if item == val:\r\n",
        "      count += 1\r\n",
        "  freq_count[val] = count \r\n",
        "\r\n",
        "print(freq_count)"
      ],
      "execution_count": 10,
      "outputs": [
        {
          "output_type": "stream",
          "text": [
            "{5: 5, 6: 5, 7: 2, 8: 4, 9: 4}\n"
          ],
          "name": "stdout"
        }
      ]
    }
  ]
}