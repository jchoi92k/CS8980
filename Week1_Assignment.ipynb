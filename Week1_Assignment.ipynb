{
  "nbformat": 4,
  "nbformat_minor": 0,
  "metadata": {
    "colab": {
      "name": "Week1_Assignment.ipynb",
      "provenance": [],
      "collapsed_sections": []
    },
    "kernelspec": {
      "name": "python3",
      "display_name": "Python 3"
    }
  },
  "cells": [
    {
      "cell_type": "markdown",
      "metadata": {
        "id": "rT3uNpo4phjq"
      },
      "source": [
        "1. Write a function that finds the factorial of a number. Test the function finding the factorial of the number 10."
      ]
    },
    {
      "cell_type": "code",
      "metadata": {
        "id": "MxZdqKO8pll1"
      },
      "source": [
        "def factorial(x):\r\n",
        "  if x > 1:\r\n",
        "    return x * factorial(x - 1)\r\n",
        "  elif x == 1:\r\n",
        "    return 1\r\n",
        "  else:\r\n",
        "    return \"No factorial for negative integers\""
      ],
      "execution_count": null,
      "outputs": []
    },
    {
      "cell_type": "code",
      "metadata": {
        "colab": {
          "base_uri": "https://localhost:8080/"
        },
        "id": "A3_ODOL_p9pB",
        "outputId": "2c25341d-3fd5-4fd5-da50-21e7c6b5d21a"
      },
      "source": [
        "factorial(10)"
      ],
      "execution_count": null,
      "outputs": [
        {
          "output_type": "execute_result",
          "data": {
            "text/plain": [
              "3628800"
            ]
          },
          "metadata": {
            "tags": []
          },
          "execution_count": 3
        }
      ]
    },
    {
      "cell_type": "markdown",
      "metadata": {
        "id": "FV6wAsPmqDXb"
      },
      "source": [
        "2. Write a function that determines if a number is a prime number. Test the function with\r\n",
        "the following numbers: 3 and 1251"
      ]
    },
    {
      "cell_type": "code",
      "metadata": {
        "id": "0UR-_TdqqEFH"
      },
      "source": [
        "def prime_finder(x):\r\n",
        "  nonprimes = []\r\n",
        "  if x == 1 or (x !=2 and x % 2 == 0):\r\n",
        "    return f'{x} is NOT a prime number'\r\n",
        "  else:\r\n",
        "    for i in range(x-2):\r\n",
        "      t = i+2\r\n",
        "      if t not in nonprimes:\r\n",
        "        if x % t == 0:\r\n",
        "          return f'{x} is NOT a prime number'\r\n",
        "        else:\r\n",
        "          nonprimes = nonprimes + [(w + 1) * t for w in range(x // t)]\r\n",
        "      else:\r\n",
        "        pass\r\n",
        "  return f'{x} is a prime number'"
      ],
      "execution_count": null,
      "outputs": []
    },
    {
      "cell_type": "code",
      "metadata": {
        "colab": {
          "base_uri": "https://localhost:8080/",
          "height": 35
        },
        "id": "A29r_5yL5jVN",
        "outputId": "dcb71e13-6b49-4ecb-f74b-3bdbc2ceb1b1"
      },
      "source": [
        "prime_finder(3)"
      ],
      "execution_count": null,
      "outputs": [
        {
          "output_type": "execute_result",
          "data": {
            "application/vnd.google.colaboratory.intrinsic+json": {
              "type": "string"
            },
            "text/plain": [
              "'3 is a prime number'"
            ]
          },
          "metadata": {
            "tags": []
          },
          "execution_count": 25
        }
      ]
    },
    {
      "cell_type": "code",
      "metadata": {
        "colab": {
          "base_uri": "https://localhost:8080/",
          "height": 35
        },
        "id": "whriQRWt5mb5",
        "outputId": "c6e5aecc-613d-44bc-bdf2-5187980cdae0"
      },
      "source": [
        "prime_finder(1251)"
      ],
      "execution_count": null,
      "outputs": [
        {
          "output_type": "execute_result",
          "data": {
            "application/vnd.google.colaboratory.intrinsic+json": {
              "type": "string"
            },
            "text/plain": [
              "'1251 is NOT a prime number'"
            ]
          },
          "metadata": {
            "tags": []
          },
          "execution_count": 26
        }
      ]
    },
    {
      "cell_type": "markdown",
      "metadata": {
        "id": "BbGXkuJifkuS"
      },
      "source": [
        "3. Write a function that transposes a matrix. Test with a 3 x 3 identity matrix.\r\n"
      ]
    },
    {
      "cell_type": "code",
      "metadata": {
        "id": "AXqsWD9Wflhj"
      },
      "source": [
        "def transpose(x):\r\n",
        "  rows = len(x)\r\n",
        "  columns = len(x[0])\r\n",
        "  transposed = []\r\n",
        "  for i in range(columns):\r\n",
        "    current = []\r\n",
        "    for j in range(rows):\r\n",
        "      current.append(x[j][i])\r\n",
        "    transposed.append(current)\r\n",
        "  return transposed"
      ],
      "execution_count": null,
      "outputs": []
    },
    {
      "cell_type": "code",
      "metadata": {
        "colab": {
          "base_uri": "https://localhost:8080/"
        },
        "id": "uLJPn4tfgsuZ",
        "outputId": "9c9a0b63-2c58-477d-b566-419953dd5a13"
      },
      "source": [
        "transpose([[1,0,0], [0,1,0], [0,0,1]])"
      ],
      "execution_count": null,
      "outputs": [
        {
          "output_type": "execute_result",
          "data": {
            "text/plain": [
              "[[1, 0, 0], [0, 1, 0], [0, 0, 1]]"
            ]
          },
          "metadata": {
            "tags": []
          },
          "execution_count": 12
        }
      ]
    },
    {
      "cell_type": "markdown",
      "metadata": {
        "id": "h5HrauR_hP1Q"
      },
      "source": [
        "4. Using Pandas and Numpy, write a piece of code to combine two series into one. Test\r\n",
        "your code with:\r\n"
      ]
    },
    {
      "cell_type": "code",
      "metadata": {
        "id": "Kie3YYtyhODN"
      },
      "source": [
        "import pandas as pd\r\n",
        "import numpy as np\r\n",
        "\r\n",
        "np.random.seed(0)\r\n",
        "series1 = pd.Series(np.arange(10))\r\n",
        "series2 = pd.Series(np.arange(26))\r\n",
        "\r\n",
        "series3 = pd.Series(list(series1) + list(series2))"
      ],
      "execution_count": null,
      "outputs": []
    },
    {
      "cell_type": "markdown",
      "metadata": {
        "id": "K3f4xgmxh5kx"
      },
      "source": [
        "5. Using pandas, write a piece of code to convert the first character of each element in a\r\n",
        "series to uppercase. Test your code with: series = pd.Series(['nlp', 'will', 'be', 'easy?'])\r\n"
      ]
    },
    {
      "cell_type": "code",
      "metadata": {
        "colab": {
          "base_uri": "https://localhost:8080/"
        },
        "id": "2vEEAmmph5DL",
        "outputId": "5ccd6319-7372-44a6-ae19-949d355f68dc"
      },
      "source": [
        "def capitalize_series(x):\r\n",
        "  newseries = []\r\n",
        "  for i in x:\r\n",
        "    newseries.append(f'{i[0].upper()}{i[1:]}')\r\n",
        "  return pd.Series(newseries)\r\n",
        "\r\n",
        "series = pd.Series(['nlp', 'will', 'be', 'easy?'])\r\n",
        "capitalize_series(series)"
      ],
      "execution_count": null,
      "outputs": [
        {
          "output_type": "execute_result",
          "data": {
            "text/plain": [
              "0      Nlp\n",
              "1     Will\n",
              "2       Be\n",
              "3    Easy?\n",
              "dtype: object"
            ]
          },
          "metadata": {
            "tags": []
          },
          "execution_count": 11
        }
      ]
    },
    {
      "cell_type": "markdown",
      "metadata": {
        "id": "7C4S2l2Mh3Mn"
      },
      "source": [
        "Bonus: Using pandas, write a piece of code to get the frequency of unique values in the\r\n",
        "entire dataframe (not using built in functions). Test your code with: dataFrame = pd.DataFrame(np.random.randint(5, 10, 20).reshape(-1, 4), columns = list('abcd'))\r\n"
      ]
    },
    {
      "cell_type": "code",
      "metadata": {
        "colab": {
          "base_uri": "https://localhost:8080/"
        },
        "id": "qJ0PbL21h6Hw",
        "outputId": "c144fe68-d93b-4457-8ea0-0fba1a408b15"
      },
      "source": [
        "dataFrame = pd.DataFrame(np.random.randint(5, 10, 20).reshape(-1, 4), columns = list('abcd'))\r\n",
        "\r\n",
        "freq_count = dict()\r\n",
        "\r\n",
        "unique_vals = set(dataFrame.stack())\r\n",
        "for val in unique_vals:\r\n",
        "  freq_count[val] = list(dataFrame.stack()).count(val)\r\n",
        "\r\n",
        "print(freq_count)"
      ],
      "execution_count": null,
      "outputs": [
        {
          "output_type": "stream",
          "text": [
            "{5: 6, 6: 6, 7: 1, 8: 4, 9: 3}\n"
          ],
          "name": "stdout"
        }
      ]
    }
  ]
}